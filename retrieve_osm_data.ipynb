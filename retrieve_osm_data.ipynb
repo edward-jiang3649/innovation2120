{
 "cells": [
  {
   "cell_type": "code",
   "execution_count": null,
   "metadata": {},
   "outputs": [],
   "source": [
    "from flask import Flask\n",
    "\n",
    "app = Flask(__name__)\n",
    "\n",
    "\n",
    "@app.route(\"/\")\n",
    "def home():\n",
    "    return \"Testing this code\""
   ]
  },
  {
   "cell_type": "code",
   "execution_count": null,
   "metadata": {},
   "outputs": [],
   "source": [
    "import osmnx as ox\n",
    "\n",
    "place_name =  \"Kamppi, Helsinki, Finland\"\n",
    "\n",
    "#Fetch OSM\n",
    "\n",
    "graph = ox.graph_from_place(place_name, network_type = \"drive\")\n"
   ]
  },
  {
   "cell_type": "code",
   "execution_count": null,
   "metadata": {},
   "outputs": [],
   "source": [
    "type(graph)\n",
    "\n",
    "# installed in environement  = spec_env\n",
    "\n"
   ]
  },
  {
   "cell_type": "code",
   "execution_count": null,
   "metadata": {},
   "outputs": [
    {
     "ename": "",
     "evalue": "",
     "output_type": "error",
     "traceback": [
      "\u001b[1;31mRunning cells with 'Python 3.10.5 ('geo_env')' requires ipykernel package.\n",
      "Run the following command to install 'ipykernel' into the Python environment. \n",
      "Command: 'conda install -n geo_env ipykernel --update-deps --force-reinstall'"
     ]
    }
   ],
   "source": [
    "#plots the streets\n",
    "fig, ax = ox.plot_graph(graph)"
   ]
  }
 ],
 "metadata": {
  "kernelspec": {
   "display_name": "Python 3.10.5 ('geo_env')",
   "language": "python",
   "name": "python3"
  },
  "language_info": {
   "name": "python",
   "version": "3.10.5"
  },
  "orig_nbformat": 4,
  "vscode": {
   "interpreter": {
    "hash": "c1dbe6d8beb6372ae34b1a47aca4f5ab9b5823f544dca79d6fcac493e9e0bd9f"
   }
  }
 },
 "nbformat": 4,
 "nbformat_minor": 2
}
